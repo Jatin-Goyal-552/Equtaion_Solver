{
 "cells": [
  {
   "cell_type": "code",
   "execution_count": 1,
   "id": "e6e10610",
   "metadata": {},
   "outputs": [],
   "source": [
    "import pandas as pd"
   ]
  },
  {
   "cell_type": "code",
   "execution_count": 2,
   "id": "6d5473bd",
   "metadata": {},
   "outputs": [],
   "source": [
    "df=pd.read_csv(\"dataset.csv\")"
   ]
  },
  {
   "cell_type": "code",
   "execution_count": 3,
   "id": "f24a68f9",
   "metadata": {},
   "outputs": [
    {
     "data": {
      "text/html": [
       "<div>\n",
       "<style scoped>\n",
       "    .dataframe tbody tr th:only-of-type {\n",
       "        vertical-align: middle;\n",
       "    }\n",
       "\n",
       "    .dataframe tbody tr th {\n",
       "        vertical-align: top;\n",
       "    }\n",
       "\n",
       "    .dataframe thead th {\n",
       "        text-align: right;\n",
       "    }\n",
       "</style>\n",
       "<table border=\"1\" class=\"dataframe\">\n",
       "  <thead>\n",
       "    <tr style=\"text-align: right;\">\n",
       "      <th></th>\n",
       "      <th>label</th>\n",
       "      <th>pixel0</th>\n",
       "      <th>pixel1</th>\n",
       "      <th>pixel2</th>\n",
       "      <th>pixel3</th>\n",
       "      <th>pixel4</th>\n",
       "      <th>pixel5</th>\n",
       "      <th>pixel6</th>\n",
       "      <th>pixel7</th>\n",
       "      <th>pixel8</th>\n",
       "      <th>...</th>\n",
       "      <th>pixel774</th>\n",
       "      <th>pixel775</th>\n",
       "      <th>pixel776</th>\n",
       "      <th>pixel777</th>\n",
       "      <th>pixel778</th>\n",
       "      <th>pixel779</th>\n",
       "      <th>pixel780</th>\n",
       "      <th>pixel781</th>\n",
       "      <th>pixel782</th>\n",
       "      <th>pixel783</th>\n",
       "    </tr>\n",
       "  </thead>\n",
       "  <tbody>\n",
       "    <tr>\n",
       "      <th>0</th>\n",
       "      <td>11</td>\n",
       "      <td>0</td>\n",
       "      <td>0</td>\n",
       "      <td>0</td>\n",
       "      <td>0</td>\n",
       "      <td>0</td>\n",
       "      <td>0</td>\n",
       "      <td>0</td>\n",
       "      <td>0</td>\n",
       "      <td>0</td>\n",
       "      <td>...</td>\n",
       "      <td>0</td>\n",
       "      <td>0</td>\n",
       "      <td>0</td>\n",
       "      <td>0</td>\n",
       "      <td>0</td>\n",
       "      <td>0</td>\n",
       "      <td>0</td>\n",
       "      <td>0</td>\n",
       "      <td>0</td>\n",
       "      <td>0</td>\n",
       "    </tr>\n",
       "    <tr>\n",
       "      <th>1</th>\n",
       "      <td>11</td>\n",
       "      <td>2</td>\n",
       "      <td>1</td>\n",
       "      <td>1</td>\n",
       "      <td>1</td>\n",
       "      <td>1</td>\n",
       "      <td>1</td>\n",
       "      <td>1</td>\n",
       "      <td>1</td>\n",
       "      <td>1</td>\n",
       "      <td>...</td>\n",
       "      <td>0</td>\n",
       "      <td>0</td>\n",
       "      <td>0</td>\n",
       "      <td>0</td>\n",
       "      <td>0</td>\n",
       "      <td>0</td>\n",
       "      <td>0</td>\n",
       "      <td>0</td>\n",
       "      <td>0</td>\n",
       "      <td>0</td>\n",
       "    </tr>\n",
       "    <tr>\n",
       "      <th>2</th>\n",
       "      <td>11</td>\n",
       "      <td>1</td>\n",
       "      <td>0</td>\n",
       "      <td>0</td>\n",
       "      <td>0</td>\n",
       "      <td>0</td>\n",
       "      <td>0</td>\n",
       "      <td>0</td>\n",
       "      <td>0</td>\n",
       "      <td>0</td>\n",
       "      <td>...</td>\n",
       "      <td>0</td>\n",
       "      <td>0</td>\n",
       "      <td>0</td>\n",
       "      <td>0</td>\n",
       "      <td>0</td>\n",
       "      <td>0</td>\n",
       "      <td>0</td>\n",
       "      <td>0</td>\n",
       "      <td>0</td>\n",
       "      <td>0</td>\n",
       "    </tr>\n",
       "    <tr>\n",
       "      <th>3</th>\n",
       "      <td>11</td>\n",
       "      <td>0</td>\n",
       "      <td>0</td>\n",
       "      <td>0</td>\n",
       "      <td>0</td>\n",
       "      <td>0</td>\n",
       "      <td>0</td>\n",
       "      <td>0</td>\n",
       "      <td>0</td>\n",
       "      <td>0</td>\n",
       "      <td>...</td>\n",
       "      <td>0</td>\n",
       "      <td>0</td>\n",
       "      <td>0</td>\n",
       "      <td>0</td>\n",
       "      <td>0</td>\n",
       "      <td>0</td>\n",
       "      <td>0</td>\n",
       "      <td>0</td>\n",
       "      <td>0</td>\n",
       "      <td>0</td>\n",
       "    </tr>\n",
       "    <tr>\n",
       "      <th>4</th>\n",
       "      <td>11</td>\n",
       "      <td>0</td>\n",
       "      <td>0</td>\n",
       "      <td>0</td>\n",
       "      <td>0</td>\n",
       "      <td>0</td>\n",
       "      <td>0</td>\n",
       "      <td>0</td>\n",
       "      <td>0</td>\n",
       "      <td>0</td>\n",
       "      <td>...</td>\n",
       "      <td>0</td>\n",
       "      <td>0</td>\n",
       "      <td>0</td>\n",
       "      <td>0</td>\n",
       "      <td>0</td>\n",
       "      <td>0</td>\n",
       "      <td>0</td>\n",
       "      <td>0</td>\n",
       "      <td>0</td>\n",
       "      <td>0</td>\n",
       "    </tr>\n",
       "  </tbody>\n",
       "</table>\n",
       "<p>5 rows × 785 columns</p>\n",
       "</div>"
      ],
      "text/plain": [
       "   label  pixel0  pixel1  pixel2  pixel3  pixel4  pixel5  pixel6  pixel7  \\\n",
       "0     11       0       0       0       0       0       0       0       0   \n",
       "1     11       2       1       1       1       1       1       1       1   \n",
       "2     11       1       0       0       0       0       0       0       0   \n",
       "3     11       0       0       0       0       0       0       0       0   \n",
       "4     11       0       0       0       0       0       0       0       0   \n",
       "\n",
       "   pixel8  ...  pixel774  pixel775  pixel776  pixel777  pixel778  pixel779  \\\n",
       "0       0  ...         0         0         0         0         0         0   \n",
       "1       1  ...         0         0         0         0         0         0   \n",
       "2       0  ...         0         0         0         0         0         0   \n",
       "3       0  ...         0         0         0         0         0         0   \n",
       "4       0  ...         0         0         0         0         0         0   \n",
       "\n",
       "   pixel780  pixel781  pixel782  pixel783  \n",
       "0         0         0         0         0  \n",
       "1         0         0         0         0  \n",
       "2         0         0         0         0  \n",
       "3         0         0         0         0  \n",
       "4         0         0         0         0  \n",
       "\n",
       "[5 rows x 785 columns]"
      ]
     },
     "execution_count": 3,
     "metadata": {},
     "output_type": "execute_result"
    }
   ],
   "source": [
    "df.head()"
   ]
  },
  {
   "cell_type": "code",
   "execution_count": 4,
   "id": "bb94ecb5",
   "metadata": {},
   "outputs": [
    {
     "data": {
      "text/plain": [
       "(85709, 785)"
      ]
     },
     "execution_count": 4,
     "metadata": {},
     "output_type": "execute_result"
    }
   ],
   "source": [
    "df.shape"
   ]
  },
  {
   "cell_type": "code",
   "execution_count": 5,
   "id": "0efba04c",
   "metadata": {},
   "outputs": [
    {
     "data": {
      "text/plain": [
       "array([11, 12, 13, 10,  1,  0,  4,  7,  3,  5,  8,  9,  2,  6],\n",
       "      dtype=int64)"
      ]
     },
     "execution_count": 5,
     "metadata": {},
     "output_type": "execute_result"
    }
   ],
   "source": [
    "df['label'].unique()"
   ]
  },
  {
   "cell_type": "code",
   "execution_count": 6,
   "id": "53ca85c7",
   "metadata": {},
   "outputs": [
    {
     "data": {
      "text/plain": [
       "label       0\n",
       "pixel0      0\n",
       "pixel1      0\n",
       "pixel2      0\n",
       "pixel3      0\n",
       "           ..\n",
       "pixel779    0\n",
       "pixel780    0\n",
       "pixel781    0\n",
       "pixel782    0\n",
       "pixel783    0\n",
       "Length: 785, dtype: int64"
      ]
     },
     "execution_count": 6,
     "metadata": {},
     "output_type": "execute_result"
    }
   ],
   "source": [
    "df.isnull().sum()"
   ]
  },
  {
   "cell_type": "code",
   "execution_count": 7,
   "id": "1e3bfeb6",
   "metadata": {},
   "outputs": [],
   "source": [
    "y = df[\"label\"]\n",
    "X = df.drop(labels = [\"label\"], axis = 1)"
   ]
  },
  {
   "cell_type": "code",
   "execution_count": 8,
   "id": "e170fb9b",
   "metadata": {},
   "outputs": [
    {
     "data": {
      "text/plain": [
       "0        11\n",
       "1        11\n",
       "2        11\n",
       "3        11\n",
       "4        11\n",
       "         ..\n",
       "85704    12\n",
       "85705    12\n",
       "85706    12\n",
       "85707    12\n",
       "85708    12\n",
       "Name: label, Length: 85709, dtype: int64"
      ]
     },
     "execution_count": 8,
     "metadata": {},
     "output_type": "execute_result"
    }
   ],
   "source": [
    "y"
   ]
  },
  {
   "cell_type": "code",
   "execution_count": 9,
   "id": "50363a57",
   "metadata": {},
   "outputs": [],
   "source": [
    "X = X.values.reshape(-1,28,28,1)"
   ]
  },
  {
   "cell_type": "code",
   "execution_count": 10,
   "id": "1391ef08",
   "metadata": {},
   "outputs": [
    {
     "data": {
      "text/plain": [
       "(85709, 28, 28, 1)"
      ]
     },
     "execution_count": 10,
     "metadata": {},
     "output_type": "execute_result"
    }
   ],
   "source": [
    "X.shape"
   ]
  },
  {
   "cell_type": "code",
   "execution_count": 11,
   "id": "5ccd29c3",
   "metadata": {},
   "outputs": [],
   "source": [
    "import matplotlib.pyplot as plt"
   ]
  },
  {
   "cell_type": "code",
   "execution_count": 12,
   "id": "d462f29f",
   "metadata": {},
   "outputs": [],
   "source": [
    "dic={0:0,1:1,2:2,3:3,4:4,5:5,6:6,7:7,8:8,9:9,10:'/',11:'+',12:'-',13:'*'}"
   ]
  },
  {
   "cell_type": "code",
   "execution_count": 13,
   "id": "adcb1af1",
   "metadata": {},
   "outputs": [
    {
     "data": {
      "image/png": "[encoded data removed]",
      "text/plain": [
       "<Figure size 1440x1440 with 20 Axes>"
      ]
     },
     "metadata": {
      "needs_background": "light"
     },
     "output_type": "display_data"
    }
   ],
   "source": [
    "def plot_image(x,y, index):\n",
    "    image = plt.imshow(x[index])\n",
    "    l=plt.title(dic[y[index]])\n",
    "    ax.grid(False)\n",
    "    ax.axis('off')    \n",
    "    return image, l\n",
    "fig = plt.figure(figsize=(20, 20))\n",
    "\n",
    "for i in range(20):\n",
    "    ax = fig.add_subplot(5, 4, i + 1)\n",
    "    plot_image(X,y, i)\n",
    "\n",
    "plt.show()"
   ]
  },
  {
   "cell_type": "code",
   "execution_count": 14,
   "id": "25449e4a",
   "metadata": {},
   "outputs": [],
   "source": [
    "from sklearn.utils import shuffle\n",
    "X_shuffled, y_shuffled = shuffle(X, y)"
   ]
  },
  {
   "cell_type": "code",
   "execution_count": 15,
   "id": "c35b0312",
   "metadata": {},
   "outputs": [
    {
     "data": {
      "text/plain": [
       "0        12\n",
       "1        11\n",
       "2        12\n",
       "3         6\n",
       "4        12\n",
       "         ..\n",
       "85704    12\n",
       "85705    11\n",
       "85706     9\n",
       "85707    11\n",
       "85708     5\n",
       "Name: label, Length: 85709, dtype: int64"
      ]
     },
     "execution_count": 15,
     "metadata": {},
     "output_type": "execute_result"
    }
   ],
   "source": [
    "y_shuffled.reset_index(drop=True, inplace=True)\n",
    "y_shuffled"
   ]
  },
  {
   "cell_type": "code",
   "execution_count": 16,
   "id": "9cabec4f",
   "metadata": {},
   "outputs": [
    {
     "data": {
      "image/png": "[encoded data removed]",
      "text/plain": [
       "<Figure size 1440x1440 with 20 Axes>"
      ]
     },
     "metadata": {
      "needs_background": "light"
     },
     "output_type": "display_data"
    }
   ],
   "source": [
    "def plot_image(x,y, index):\n",
    "    image = plt.imshow(x[index])\n",
    "#     print(y[index])\n",
    "    l=plt.title(dic[y[index]])\n",
    "    ax.grid(False)\n",
    "    ax.axis('off')    \n",
    "    return image, l\n",
    "fig = plt.figure(figsize=(20, 20))\n",
    "\n",
    "for i in range(20):\n",
    "    ax = fig.add_subplot(5, 4, i + 1)\n",
    "    plot_image(X_shuffled,y_shuffled, i)\n",
    "\n",
    "plt.show()"
   ]
  },
  {
   "cell_type": "code",
   "execution_count": 17,
   "id": "fa3b8af2",
   "metadata": {},
   "outputs": [],
   "source": [
    "import keras\n",
    "y_categorical = keras.utils.to_categorical(y_shuffled, 14)"
   ]
  },
  {
   "cell_type": "code",
   "execution_count": 18,
   "id": "91d517c2",
   "metadata": {},
   "outputs": [
    {
     "data": {
      "text/plain": [
       "array([[0., 0., 0., ..., 0., 1., 0.],\n",
       "       [0., 0., 0., ..., 1., 0., 0.],\n",
       "       [0., 0., 0., ..., 0., 1., 0.],\n",
       "       ...,\n",
       "       [0., 0., 0., ..., 0., 0., 0.],\n",
       "       [0., 0., 0., ..., 1., 0., 0.],\n",
       "       [0., 0., 0., ..., 0., 0., 0.]], dtype=float32)"
      ]
     },
     "execution_count": 18,
     "metadata": {},
     "output_type": "execute_result"
    }
   ],
   "source": [
    "y_categorical"
   ]
  },
  {
   "cell_type": "code",
   "execution_count": 19,
   "id": "6925a9b0",
   "metadata": {},
   "outputs": [],
   "source": [
    "from sklearn.model_selection import train_test_split\n",
    "x_train,x_test,y_train,y_test=train_test_split(X_shuffled,y_categorical,test_size=0.1)"
   ]
  },
  {
   "cell_type": "code",
   "execution_count": 20,
   "id": "b91868d9",
   "metadata": {},
   "outputs": [
    {
     "data": {
      "text/plain": [
       "(77138, 77138)"
      ]
     },
     "execution_count": 20,
     "metadata": {},
     "output_type": "execute_result"
    }
   ],
   "source": [
    "len(x_train),len(y_train)\n"
   ]
  },
  {
   "cell_type": "code",
   "execution_count": 21,
   "id": "6523bf29",
   "metadata": {},
   "outputs": [
    {
     "data": {
      "text/plain": [
       "(8571, 8571)"
      ]
     },
     "execution_count": 21,
     "metadata": {},
     "output_type": "execute_result"
    }
   ],
   "source": [
    "len(x_test),len(y_test)\n"
   ]
  },
  {
   "cell_type": "code",
   "execution_count": 22,
   "id": "81b4b8c9",
   "metadata": {},
   "outputs": [],
   "source": [
    "import numpy as np"
   ]
  },
  {
   "cell_type": "code",
   "execution_count": 23,
   "id": "666e7bcd",
   "metadata": {},
   "outputs": [
    {
     "data": {
      "image/png": "[encoded data removed]",
      "text/plain": [
       "<Figure size 1440x1440 with 20 Axes>"
      ]
     },
     "metadata": {
      "needs_background": "light"
     },
     "output_type": "display_data"
    }
   ],
   "source": [
    "def plot_image(x,y, index):\n",
    "    image = plt.imshow(x[index])\n",
    "#     print(y[index])\n",
    "    l=plt.title(dic[np.argmax(y[index])])\n",
    "    ax.grid(False)\n",
    "    ax.axis('off')    \n",
    "    return image, l\n",
    "fig = plt.figure(figsize=(20, 20))\n",
    "\n",
    "for i in range(20,40):\n",
    "    ax = fig.add_subplot(5, 4, i + 1-20)\n",
    "    plot_image(x_train,y_train, i)\n",
    "\n",
    "plt.show()"
   ]
  },
  {
   "cell_type": "code",
   "execution_count": 24,
   "id": "1f6936b5",
   "metadata": {},
   "outputs": [],
   "source": [
    "from keras.models import Sequential\n",
    "from keras.layers import Dense, Dropout, Flatten, Conv2D, MaxPool2D\n",
    "from keras.optimizers import RMSprop\n",
    "from keras.preprocessing.image import ImageDataGenerator\n",
    "from keras.callbacks import ReduceLROnPlateau\n",
    "from tensorflow import keras"
   ]
  },
  {
   "cell_type": "code",
   "execution_count": 25,
   "id": "64020ece",
   "metadata": {},
   "outputs": [],
   "source": [
    "model = Sequential()\n",
    "\n",
    "model.add(Conv2D(filters = 32, kernel_size = (5,5), padding = \"Same\", activation = \"relu\", input_shape = (28, 28, 1)))\n",
    "model.add(Conv2D(filters = 32, kernel_size = (5,5), padding = \"Same\", activation = \"relu\"))\n",
    "model.add(MaxPool2D(pool_size = (2,2)))\n",
    "model.add(Dropout(0.25))\n",
    "\n",
    "model.add(Conv2D(filters = 64, kernel_size = (3,3), padding = \"Same\", activation = \"relu\"))\n",
    "model.add(MaxPool2D(pool_size = (2,2)))\n",
    "model.add(Dropout(0.25))\n",
    "\n",
    "model.add(Conv2D(filters = 64, kernel_size = (3,3), padding = \"Same\", activation = \"relu\"))\n",
    "model.add(Conv2D(filters = 64, kernel_size = (3,3), padding = \"Same\", activation = \"relu\"))\n",
    "model.add(MaxPool2D(pool_size = (2,2)))\n",
    "model.add(Dropout(0.25))\n",
    "\n",
    "model.add(Flatten())\n",
    "model.add(Dense(256, activation = \"relu\"))\n",
    "model.add(Dropout(0.25))\n",
    "model.add(Dense(14, activation = \"softmax\"))\n",
    "\n",
    "optimizer = RMSprop(lr = 0.001, rho = 0.9, epsilon = 1e-08, decay=0.0 )\n",
    "\n",
    "model.compile(optimizer = optimizer, loss = \"categorical_crossentropy\", metrics = [\"accuracy\"])\n"
   ]
  },
  {
   "cell_type": "code",
   "execution_count": 26,
   "id": "43f72180",
   "metadata": {},
   "outputs": [],
   "source": [
    "from keras.callbacks import EarlyStopping,ModelCheckpoint\n",
    "\n",
    "stop = EarlyStopping(\n",
    "    monitor='val_accuracy', \n",
    "    mode='max',\n",
    "    patience=6\n",
    ")\n",
    "\n",
    "checkpoint= ModelCheckpoint(\n",
    "    filepath='./',\n",
    "    save_weights_only=True,\n",
    "    monitor='val_accuracy',\n",
    "    mode='max',\n",
    "    save_best_only=True)\n",
    "\n",
    "learning_rate_reduction = ReduceLROnPlateau(monitor = \"val_accuracy\",\n",
    "                                            patience = 3,\n",
    "                                            verbose = 1,\n",
    "                                            factor = 0.5,\n",
    "                                            min_lr = 0.0001)"
   ]
  },
  {
   "cell_type": "code",
   "execution_count": 27,
   "id": "6aae5fb5",
   "metadata": {},
   "outputs": [],
   "source": [
    "from keras.preprocessing.image import ImageDataGenerator\n",
    "\n",
    "datagen = ImageDataGenerator(\n",
    "    rescale=1./255,\n",
    "        featurewise_center=False,  \n",
    "        samplewise_center=False,\n",
    "        featurewise_std_normalization=False,  \n",
    "        samplewise_std_normalization=False, \n",
    "        zca_whitening=False,  \n",
    "        rotation_range=10, \n",
    "        zoom_range = 0.1, \n",
    "        width_shift_range=0.1, \n",
    "        height_shift_range=0.1, \n",
    "        horizontal_flip=False,  \n",
    "        vertical_flip=False,\n",
    "validation_split=0.1) "
   ]
  },
  {
   "cell_type": "code",
   "execution_count": 28,
   "id": "2c0907de",
   "metadata": {},
   "outputs": [],
   "source": [
    "epochs = 10\n",
    "batch_size = 256"
   ]
  },
  {
   "cell_type": "code",
   "execution_count": 29,
   "id": "29477488",
   "metadata": {},
   "outputs": [],
   "source": [
    "train_generator = datagen.flow(\n",
    "    x_train,\n",
    "    y_train,\n",
    "    batch_size=batch_size,\n",
    "    subset='training')"
   ]
  },
  {
   "cell_type": "code",
   "execution_count": 30,
   "id": "3d3ae72f",
   "metadata": {},
   "outputs": [],
   "source": [
    "validation_generator = datagen.flow(\n",
    "     x_train,\n",
    "    y_train,\n",
    "    batch_size=batch_size,\n",
    "    subset='validation') "
   ]
  },
  {
   "cell_type": "code",
   "execution_count": 31,
   "id": "2cac79ba",
   "metadata": {},
   "outputs": [
    {
     "data": {
      "text/plain": [
       "272"
      ]
     },
     "execution_count": 31,
     "metadata": {},
     "output_type": "execute_result"
    }
   ],
   "source": [
    "train_generator.__len__()"
   ]
  },
  {
   "cell_type": "code",
   "execution_count": 32,
   "id": "21e3ff3f",
   "metadata": {},
   "outputs": [
    {
     "name": "stderr",
     "output_type": "stream",
     "text": [
      "c:\\users\\lenovo\\anaconda3\\envs\\python37\\lib\\site-packages\\tensorflow\\python\\keras\\engine\\training.py:1844: UserWarning: `Model.fit_generator` is deprecated and will be removed in a future version. Please use `Model.fit`, which supports generators.\n",
      "  warnings.warn('`Model.fit_generator` is deprecated and '\n"
     ]
    },
    {
     "name": "stdout",
     "output_type": "stream",
     "text": [
      "Epoch 1/10\n",
      "271/271 [==============================] - 232s 850ms/step - loss: 0.9762 - accuracy: 0.6979 - val_loss: 0.1076 - val_accuracy: 0.9663\n",
      "Epoch 2/10\n",
      "271/271 [==============================] - 234s 862ms/step - loss: 0.1292 - accuracy: 0.9620 - val_loss: 0.0595 - val_accuracy: 0.9811\n",
      "Epoch 3/10\n",
      "271/271 [==============================] - 236s 871ms/step - loss: 0.0800 - accuracy: 0.9755 - val_loss: 0.0469 - val_accuracy: 0.9860\n",
      "Epoch 4/10\n",
      "271/271 [==============================] - 233s 860ms/step - loss: 0.0610 - accuracy: 0.9808 - val_loss: 0.0428 - val_accuracy: 0.9859\n",
      "Epoch 5/10\n",
      "271/271 [==============================] - 232s 857ms/step - loss: 0.0555 - accuracy: 0.9833 - val_loss: 0.0420 - val_accuracy: 0.9869\n",
      "Epoch 6/10\n",
      "271/271 [==============================] - 233s 858ms/step - loss: 0.0448 - accuracy: 0.9870 - val_loss: 0.0317 - val_accuracy: 0.9900\n",
      "Epoch 7/10\n",
      "271/271 [==============================] - 199s 732ms/step - loss: 0.0413 - accuracy: 0.9872 - val_loss: 0.0296 - val_accuracy: 0.9903\n",
      "Epoch 8/10\n",
      "271/271 [==============================] - 191s 704ms/step - loss: 0.0399 - accuracy: 0.9882 - val_loss: 0.0353 - val_accuracy: 0.9899\n",
      "Epoch 9/10\n",
      "271/271 [==============================] - 203s 750ms/step - loss: 0.0363 - accuracy: 0.9896 - val_loss: 0.0385 - val_accuracy: 0.9882\n",
      "Epoch 10/10\n",
      "271/271 [==============================] - 194s 716ms/step - loss: 0.0356 - accuracy: 0.9895 - val_loss: 0.0236 - val_accuracy: 0.9924\n"
     ]
    }
   ],
   "source": [
    "history = model.fit_generator(train_generator,\n",
    "                                epochs = epochs, \n",
    "                                verbose = 1, \n",
    "                                steps_per_epoch=(x_train.shape[0]*0.9) // batch_size, \n",
    "                              validation_data = validation_generator,\n",
    "                                callbacks=[learning_rate_reduction,stop,checkpoint]                            \n",
    "                              )\n"
   ]
  },
  {
   "cell_type": "code",
   "execution_count": 33,
   "id": "c1359f48",
   "metadata": {},
   "outputs": [],
   "source": [
    "model.save(\"model_scratch2.h5\")"
   ]
  },
  {
   "cell_type": "code",
   "execution_count": 34,
   "id": "ba78b77e",
   "metadata": {},
   "outputs": [],
   "source": [
    "model_scratch=keras.models.load_model(\"model_scratch2.h5\")"
   ]
  },
  {
   "cell_type": "code",
   "execution_count": 35,
   "id": "0bc336ce",
   "metadata": {},
   "outputs": [],
   "source": [
    "x_test_array=np.array(x_test)\n",
    "x_test_scaled=x_test_array/255.0"
   ]
  },
  {
   "cell_type": "code",
   "execution_count": 36,
   "id": "3e49b0a8",
   "metadata": {},
   "outputs": [],
   "source": [
    "x_test_scaled=x_test_scaled.reshape(-1,28,28,1)"
   ]
  },
  {
   "cell_type": "code",
   "execution_count": 37,
   "id": "8d074a5a",
   "metadata": {},
   "outputs": [
    {
     "data": {
      "text/plain": [
       "(8571, 28, 28, 1)"
      ]
     },
     "execution_count": 37,
     "metadata": {},
     "output_type": "execute_result"
    }
   ],
   "source": [
    "x_test_scaled.shape"
   ]
  },
  {
   "cell_type": "code",
   "execution_count": 38,
   "id": "36798b38",
   "metadata": {},
   "outputs": [],
   "source": [
    "y_test_array=np.array(y_test)"
   ]
  },
  {
   "cell_type": "code",
   "execution_count": 39,
   "id": "814c43e8",
   "metadata": {},
   "outputs": [
    {
     "name": "stdout",
     "output_type": "stream",
     "text": [
      "268/268 [==============================] - 3s 12ms/step - loss: 0.0218 - accuracy: 0.9936\n",
      "Accuracy:  0.9935830235481262 \n",
      "Loss    :  0.021759837865829468\n"
     ]
    }
   ],
   "source": [
    "\n",
    "loss, acc = model_scratch.evaluate(x_test_scaled, y_test_array)\n",
    "print('Accuracy: ', acc, '\\nLoss    : ', loss)"
   ]
  },
  {
   "cell_type": "code",
   "execution_count": 40,
   "id": "2257933e",
   "metadata": {},
   "outputs": [],
   "source": [
    "# history=model_scratch.history"
   ]
  },
  {
   "cell_type": "code",
   "execution_count": 41,
   "id": "a325d311",
   "metadata": {},
   "outputs": [
    {
     "data": {
      "image/png": "[encoded data removed]",
      "text/plain": [
       "<Figure size 864x360 with 1 Axes>"
      ]
     },
     "metadata": {
      "needs_background": "light"
     },
     "output_type": "display_data"
    },
    {
     "data": {
      "image/png": "[encoded data removed]",
      "text/plain": [
       "<Figure size 864x360 with 1 Axes>"
      ]
     },
     "metadata": {
      "needs_background": "light"
     },
     "output_type": "display_data"
    }
   ],
   "source": [
    "plt.figure(figsize=(12, 5))\n",
    "\n",
    "plt.plot(history.history['accuracy'])\n",
    "plt.plot(history.history['val_accuracy'])\n",
    "plt.title('model accuracy')\n",
    "plt.ylabel('accuracy')\n",
    "plt.xlabel('epoch')\n",
    "plt.legend(['train', 'validation'], loc='upper left')\n",
    "plt.show()\n",
    "plt.figure(figsize=(12, 5))\n",
    "\n",
    "plt.plot(history.history['loss'])\n",
    "plt.plot(history.history['val_loss'])\n",
    "plt.title('model loss')\n",
    "plt.ylabel('loss')\n",
    "plt.xlabel('epoch')\n",
    "plt.legend(['train', 'validation'], loc='upper left')\n",
    "plt.show()"
   ]
  },
  {
   "cell_type": "code",
   "execution_count": 42,
   "id": "cd20cb89",
   "metadata": {},
   "outputs": [
    {
     "data": {
      "text/plain": [
       "array([11,  6, 12, ..., 12, 11, 11], dtype=int64)"
      ]
     },
     "execution_count": 42,
     "metadata": {},
     "output_type": "execute_result"
    }
   ],
   "source": [
    "pred = np.argmax(model.predict(x_test_scaled), axis = 1)\n",
    "pred"
   ]
  },
  {
   "cell_type": "code",
   "execution_count": 43,
   "id": "b084ecd2",
   "metadata": {},
   "outputs": [],
   "source": [
    "actual=np.argmax(y_test_array, axis = 1)"
   ]
  },
  {
   "cell_type": "code",
   "execution_count": 44,
   "id": "4201d3bb",
   "metadata": {},
   "outputs": [
    {
     "data": {
      "image/png": "[encoded data removed]",
      "text/plain": [
       "<Figure size 1440x1440 with 20 Axes>"
      ]
     },
     "metadata": {
      "needs_background": "light"
     },
     "output_type": "display_data"
    }
   ],
   "source": [
    "def plot_image(x_test,pred,actual, i,dic):\n",
    "    image = plt.imshow(x_test[i])\n",
    "    title=\"Actual:- \"+str(dic[actual[i]])+\" Prediction:- \",str(dic[pred[i]])\n",
    "    l=plt.title(title)\n",
    "    ax.grid(False)\n",
    "    ax.axis('off')    \n",
    "    return image, l\n",
    "fig = plt.figure(figsize=(20, 20))\n",
    "\n",
    "for i in range(20):\n",
    "    ax = fig.add_subplot(5, 4, i + 1)\n",
    "    plot_image(x_test,pred,actual, i,dic)\n",
    "\n",
    "plt.show()"
   ]
  },
  {
   "cell_type": "code",
   "execution_count": 45,
   "id": "6bdb5909",
   "metadata": {},
   "outputs": [
    {
     "name": "stdout",
     "output_type": "stream",
     "text": [
      "              precision    recall  f1-score   support\n",
      "\n",
      "           0       1.00      0.99      1.00       465\n",
      "           1       1.00      0.98      0.99       466\n",
      "           2       0.99      1.00      0.99       413\n",
      "           3       0.99      0.99      0.99       429\n",
      "           4       0.99      0.99      0.99       379\n",
      "           5       1.00      0.97      0.99       395\n",
      "           6       0.98      1.00      0.99       408\n",
      "           7       0.99      1.00      0.99       445\n",
      "           8       0.99      0.98      0.98       402\n",
      "           9       0.98      1.00      0.99       429\n",
      "           /       1.00      1.00      1.00         5\n",
      "           +       0.99      1.00      1.00      2196\n",
      "           -       1.00      1.00      1.00      2129\n",
      "           *       1.00      0.90      0.95        10\n",
      "\n",
      "    accuracy                           0.99      8571\n",
      "   macro avg       0.99      0.99      0.99      8571\n",
      "weighted avg       0.99      0.99      0.99      8571\n",
      "\n"
     ]
    }
   ],
   "source": [
    "from sklearn.metrics import confusion_matrix, classification_report\n",
    "labels = [str(dic[i]) for i in range(14)]\n",
    "print(classification_report(actual, pred, target_names = labels))"
   ]
  },
  {
   "cell_type": "code",
   "execution_count": 46,
   "id": "c3c1fd32",
   "metadata": {},
   "outputs": [
    {
     "data": {
      "image/png": "[encoded data removed]",
      "text/plain": [
       "<Figure size 1152x1152 with 1 Axes>"
      ]
     },
     "metadata": {
      "needs_background": "light"
     },
     "output_type": "display_data"
    }
   ],
   "source": [
    "import seaborn as sns\n",
    "cmat = confusion_matrix(actual, pred)\n",
    "plt.figure(figsize=(16,16))\n",
    "sns.heatmap(cmat, annot = True, cbar = False, cmap='YlGnBu', fmt=\"d\", xticklabels=labels, yticklabels=labels);"
   ]
  },
  {
   "cell_type": "code",
   "execution_count": null,
   "id": "7ca76af8",
   "metadata": {},
   "outputs": [],
   "source": []
  },
  {
   "cell_type": "code",
   "execution_count": null,
   "id": "c8b61640",
   "metadata": {},
   "outputs": [],
   "source": []
  },
  {
   "cell_type": "code",
   "execution_count": null,
   "id": "15e276d4",
   "metadata": {},
   "outputs": [],
   "source": []
  }
 ],
 "metadata": {
  "kernelspec": {
   "display_name": "Python 3 (ipykernel)",
   "language": "python",
   "name": "python3"
  },
  "language_info": {
   "codemirror_mode": {
    "name": "ipython",
    "version": 3
   },
   "file_extension": ".py",
   "mimetype": "text/x-python",
   "name": "python",
   "nbconvert_exporter": "python",
   "pygments_lexer": "ipython3",
   "version": "3.7.10"
  }
 },
 "nbformat": 4,
 "nbformat_minor": 5
}
