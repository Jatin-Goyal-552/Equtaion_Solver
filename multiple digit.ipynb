{
 "cells": [
  {
   "cell_type": "code",
   "execution_count": 1,
   "id": "892f2a6c",
   "metadata": {},
   "outputs": [],
   "source": [
    "from PIL import Image\n",
    "from itertools import groupby\n",
    "import numpy as np\n",
    "import keras\n",
    "from math import *\n",
    "import matplotlib.pyplot as plt"
   ]
  },
  {
   "cell_type": "code",
   "execution_count": 2,
   "id": "d7fc0a0f",
   "metadata": {},
   "outputs": [
    {
     "data": {
      "image/png": "[encoded data removed]",
      "text/plain": [
       "<PIL.Image.Image image mode=L size=1200x300 at 0x24BAA2B8608>"
      ]
     },
     "execution_count": 2,
     "metadata": {},
     "output_type": "execute_result"
    }
   ],
   "source": [
    "image = Image.open(\"test_images/final.png\").convert(\"L\")\n",
    "image"
   ]
  },
  {
   "cell_type": "code",
   "execution_count": 3,
   "id": "b4a3b254",
   "metadata": {},
   "outputs": [
    {
     "data": {
      "text/plain": [
       "(1200, 300)"
      ]
     },
     "execution_count": 3,
     "metadata": {},
     "output_type": "execute_result"
    }
   ],
   "source": [
    "image.size"
   ]
  },
  {
   "cell_type": "code",
   "execution_count": 4,
   "id": "3a7e724e",
   "metadata": {},
   "outputs": [],
   "source": [
    "\n",
    "r = image.size[0] / image.size[1] \n",
    "width = int(r * 28)\n",
    "height = 28\n",
    "temp = image.resize((width, height))\n",
    "array = np.array(temp)\n",
    "\n",
    "inverse_final = (255 - array)/ 255.0\n",
    "lst= inverse_final.any(0)\n",
    "\n",
    "        "
   ]
  },
  {
   "cell_type": "code",
   "execution_count": 5,
   "id": "d7a6594a",
   "metadata": {},
   "outputs": [],
   "source": [
    "individual_array = [inverse_final[:,[*value]] for key, value in groupby(np.arange(len(lst)), lambda x: lst[x] != 0) if key]"
   ]
  },
  {
   "cell_type": "code",
   "execution_count": 6,
   "id": "fb9daaf5",
   "metadata": {},
   "outputs": [
    {
     "data": {
      "text/plain": [
       "array([  0,   1,   2,   3,   4,   5,   6,   7,   8,   9,  10,  11,  12,\n",
       "        13,  14,  15,  16,  17,  18,  19,  20,  21,  22,  23,  24,  25,\n",
       "        26,  27,  28,  29,  30,  31,  32,  33,  34,  35,  36,  37,  38,\n",
       "        39,  40,  41,  42,  43,  44,  45,  46,  47,  48,  49,  50,  51,\n",
       "        52,  53,  54,  55,  56,  57,  58,  59,  60,  61,  62,  63,  64,\n",
       "        65,  66,  67,  68,  69,  70,  71,  72,  73,  74,  75,  76,  77,\n",
       "        78,  79,  80,  81,  82,  83,  84,  85,  86,  87,  88,  89,  90,\n",
       "        91,  92,  93,  94,  95,  96,  97,  98,  99, 100, 101, 102, 103,\n",
       "       104, 105, 106, 107, 108, 109, 110, 111])"
      ]
     },
     "execution_count": 6,
     "metadata": {},
     "output_type": "execute_result"
    }
   ],
   "source": [
    "np.arange(len(lst))"
   ]
  },
  {
   "cell_type": "code",
   "execution_count": 7,
   "id": "73ec7b1b",
   "metadata": {},
   "outputs": [
    {
     "data": {
      "text/plain": [
       "array([False, False, False, False, False, False, False, False,  True,\n",
       "        True, False, False, False, False, False,  True,  True,  True,\n",
       "        True,  True,  True,  True,  True,  True,  True,  True,  True,\n",
       "       False, False, False, False, False,  True,  True,  True,  True,\n",
       "        True,  True,  True,  True,  True,  True,  True,  True,  True,\n",
       "        True, False, False, False, False, False, False, False, False,\n",
       "       False,  True,  True,  True,  True,  True,  True, False, False,\n",
       "        True,  True,  True,  True,  True,  True,  True,  True,  True,\n",
       "        True,  True,  True,  True,  True, False, False, False, False,\n",
       "        True,  True,  True,  True,  True,  True,  True,  True,  True,\n",
       "        True, False, False, False,  True,  True,  True,  True,  True,\n",
       "        True,  True,  True,  True, False, False, False, False, False,\n",
       "       False, False, False, False])"
      ]
     },
     "execution_count": 7,
     "metadata": {},
     "output_type": "execute_result"
    }
   ],
   "source": [
    "lst"
   ]
  },
  {
   "cell_type": "code",
   "execution_count": 8,
   "id": "5e7886c0",
   "metadata": {},
   "outputs": [
    {
     "data": {
      "text/plain": [
       "(28, 112)"
      ]
     },
     "execution_count": 8,
     "metadata": {},
     "output_type": "execute_result"
    }
   ],
   "source": [
    "inverse_final.shape"
   ]
  },
  {
   "cell_type": "code",
   "execution_count": 9,
   "id": "cfba7127",
   "metadata": {},
   "outputs": [
    {
     "data": {
      "text/plain": [
       "<matplotlib.image.AxesImage at 0x24c042f5d88>"
      ]
     },
     "execution_count": 9,
     "metadata": {},
     "output_type": "execute_result"
    },
    {
     "data": {
      "image/png": "[encoded data removed]",
      "text/plain": [
       "<Figure size 432x288 with 1 Axes>"
      ]
     },
     "metadata": {
      "needs_background": "light"
     },
     "output_type": "display_data"
    }
   ],
   "source": [
    "plt.imshow(temp)"
   ]
  },
  {
   "cell_type": "code",
   "execution_count": 10,
   "id": "ff83b5c9",
   "metadata": {},
   "outputs": [
    {
     "data": {
      "text/plain": [
       "<matplotlib.image.AxesImage at 0x24c043afb48>"
      ]
     },
     "execution_count": 10,
     "metadata": {},
     "output_type": "execute_result"
    },
    {
     "data": {
      "image/png": "[encoded data removed]",
      "text/plain": [
       "<Figure size 432x288 with 1 Axes>"
      ]
     },
     "metadata": {
      "needs_background": "light"
     },
     "output_type": "display_data"
    }
   ],
   "source": [
    "plt.imshow(inverse_final)"
   ]
  },
  {
   "cell_type": "code",
   "execution_count": 11,
   "id": "6888b692",
   "metadata": {},
   "outputs": [
    {
     "data": {
      "text/plain": [
       "7"
      ]
     },
     "execution_count": 11,
     "metadata": {},
     "output_type": "execute_result"
    }
   ],
   "source": [
    "len(individual_array)"
   ]
  },
  {
   "cell_type": "code",
   "execution_count": 12,
   "id": "cc1c65c3",
   "metadata": {},
   "outputs": [
    {
     "data": {
      "text/plain": [
       "<matplotlib.image.AxesImage at 0x24c04431488>"
      ]
     },
     "execution_count": 12,
     "metadata": {},
     "output_type": "execute_result"
    },
    {
     "data": {
      "image/png": "[encoded data removed]",
      "text/plain": [
       "<Figure size 432x288 with 1 Axes>"
      ]
     },
     "metadata": {
      "needs_background": "light"
     },
     "output_type": "display_data"
    }
   ],
   "source": [
    "plt.imshow(individual_array[0])"
   ]
  },
  {
   "cell_type": "code",
   "execution_count": 14,
   "id": "bcf9fbe7",
   "metadata": {},
   "outputs": [
    {
     "data": {
      "image/png": "[encoded data removed]",
      "text/plain": [
       "<Figure size 1440x1440 with 7 Axes>"
      ]
     },
     "metadata": {
      "needs_background": "light"
     },
     "output_type": "display_data"
    }
   ],
   "source": [
    "\n",
    "def plot_image(x, index):\n",
    "    image = plt.imshow(x[index])\n",
    "    ax.grid(False)\n",
    "    ax.axis('off')    \n",
    "    return image\n",
    "fig = plt.figure(figsize=(20, 20))\n",
    "\n",
    "for i in range(len(individual_array)):\n",
    "    ax = fig.add_subplot(5, 4, i + 1)\n",
    "    plot_image(individual_array, i)\n",
    "\n",
    "plt.show()"
   ]
  },
  {
   "cell_type": "code",
   "execution_count": 15,
   "id": "51e82f37",
   "metadata": {},
   "outputs": [],
   "source": [
    "num_of_digits = len(individual_array)\n",
    "digits = []\n",
    "for x in range(0, num_of_digits):\n",
    "    img = individual_array[x]\n",
    "            \n",
    "    width = img.shape[1]\n",
    "    space_to_fill= (28 - width) / 2\n",
    "            \n",
    "    if space_to_fill.is_integer() == False:    \n",
    "        space_to_fill_l = int(space_to_fill)\n",
    "        space_to_fill_r = int(space_to_fill) + 1\n",
    "    else:                              \n",
    "        space_to_fill_l = int(space_to_fill)\n",
    "        space_to_fill_r = int(space_to_fill)\n",
    "            \n",
    "    space_to_fill_arr_l = np.zeros((28, space_to_fill_l))\n",
    "    space_to_fill_arr_r = np.zeros((28, space_to_fill_r)) \n",
    "            \n",
    "    left = np.concatenate((space_to_fill_arr_l, img), axis= 1)\n",
    "    digit = np.concatenate((left, space_to_fill_arr_r), axis= 1)\n",
    "            \n",
    "    digit.resize(28, 28, 1) \n",
    "    digits.append(digit)\n",
    "digit_array = np.array(digits)\n",
    "digit_array = digit_array.reshape(-1, 28, 28, 1)\n",
    "model = keras.models.load_model(\"model_scratch2.h5\")\n",
    "digits_pred =  model.predict(digit_array)\n",
    "digits_pred = np.argmax(digits_pred, axis = 1)\n",
    "        "
   ]
  },
  {
   "cell_type": "code",
   "execution_count": 16,
   "id": "82118701",
   "metadata": {},
   "outputs": [
    {
     "name": "stdout",
     "output_type": "stream",
     "text": [
      "1 3 * 1 4 - 8 \n",
      "13*14-8\n",
      "174\n"
     ]
    }
   ],
   "source": [
    "dic={0:0,1:1,2:2,3:3,4:4,5:5,6:6,7:7,8:8,9:9,10:'/',11:'+',12:'-',13:'*'}\n",
    "eqt=\"\"\n",
    "for i in digits_pred:\n",
    "    eqt+=str(dic[i])+\"\"\n",
    "    print(dic[i],end=\" \")\n",
    "print()\n",
    "print(eqt)\n",
    "        \n",
    "print(eval(eqt))\n",
    "ans=eval(eqt)"
   ]
  },
  {
   "cell_type": "code",
   "execution_count": null,
   "id": "a0a0d3ed",
   "metadata": {},
   "outputs": [],
   "source": []
  }
 ],
 "metadata": {
  "kernelspec": {
   "display_name": "Python 3 (ipykernel)",
   "language": "python",
   "name": "python3"
  },
  "language_info": {
   "codemirror_mode": {
    "name": "ipython",
    "version": 3
   },
   "file_extension": ".py",
   "mimetype": "text/x-python",
   "name": "python",
   "nbconvert_exporter": "python",
   "pygments_lexer": "ipython3",
   "version": "3.7.10"
  }
 },
 "nbformat": 4,
 "nbformat_minor": 5
}
